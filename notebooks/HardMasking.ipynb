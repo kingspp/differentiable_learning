{
 "cells": [
  {
   "cell_type": "code",
   "execution_count": 1,
   "metadata": {
    "Collapsed": "false",
    "ExecuteTime": {
     "end_time": "2020-05-03T23:07:54.314883Z",
     "start_time": "2020-05-03T23:07:50.445759Z"
    }
   },
   "outputs": [
    {
     "name": "stdout",
     "output_type": "stream",
     "text": [
      "1.2234761960000355\n",
      "1.3051025839999966\n",
      "1.1912348160000192\n"
     ]
    }
   ],
   "source": [
    "\n",
    "\n",
    "import numpy as np\n",
    "import time\n",
    "import timeit\n",
    "\n",
    "SIZE = [500*500]\n",
    "RUNS = 10_000\n",
    "\n",
    "\n",
    "def mul():\n",
    "    return ARR*ARR\n",
    "\n",
    "ARR = np.random.choice([5,0], size=SIZE, p=[0.5,0.5])\n",
    "print(timeit.timeit(stmt=mul, number=RUNS))\n",
    "\n",
    "ARR = np.random.choice([5,0], size=SIZE, p=[0.1,0.9])\n",
    "print(timeit.timeit(stmt=mul, number=RUNS))\n",
    "\n",
    "ARR = np.random.uniform(1, 10, size=SIZE)\n",
    "print(timeit.timeit(stmt=mul, number=RUNS))\n"
   ]
  },
  {
   "cell_type": "code",
   "execution_count": null,
   "metadata": {
    "Collapsed": "false"
   },
   "outputs": [],
   "source": []
  },
  {
   "cell_type": "code",
   "execution_count": 16,
   "metadata": {
    "Collapsed": "false",
    "ExecuteTime": {
     "end_time": "2020-05-06T19:58:39.997552Z",
     "start_time": "2020-05-06T19:58:39.219272Z"
    }
   },
   "outputs": [
    {
     "name": "stdout",
     "output_type": "stream",
     "text": [
      "[('weight', Parameter containing:\n",
      "tensor([[[[ 0.0696,  0.2067, -0.2556],\n",
      "          [ 0.1500,  0.2942,  0.2083],\n",
      "          [-0.2191, -0.0414, -0.2277]]],\n",
      "\n",
      "\n",
      "        [[[ 0.1929, -0.3156,  0.1858],\n",
      "          [ 0.0647, -0.2856, -0.0058],\n",
      "          [-0.0423,  0.0845,  0.3201]]],\n",
      "\n",
      "\n",
      "        [[[-0.2524, -0.0075, -0.2302],\n",
      "          [-0.0682, -0.1007, -0.3304],\n",
      "          [-0.2870,  0.3072, -0.0886]]],\n",
      "\n",
      "\n",
      "        [[[ 0.0130, -0.0439, -0.1026],\n",
      "          [ 0.1086,  0.0526,  0.0934],\n",
      "          [ 0.0481,  0.1797, -0.1982]]],\n",
      "\n",
      "\n",
      "        [[[-0.2066, -0.0199, -0.1472],\n",
      "          [ 0.0007,  0.2304, -0.2892],\n",
      "          [-0.1760,  0.1045, -0.2712]]],\n",
      "\n",
      "\n",
      "        [[[ 0.2044,  0.0025, -0.2743],\n",
      "          [ 0.1469, -0.3179, -0.1738],\n",
      "          [ 0.1075,  0.2918,  0.2553]]]], requires_grad=True)), ('bias', Parameter containing:\n",
      "tensor([ 0.1417,  0.2496,  0.1655,  0.2093, -0.0947,  0.1983],\n",
      "       requires_grad=True))]\n"
     ]
    }
   ],
   "source": [
    "import torch\n",
    "from torch import nn\n",
    "import torch.nn.utils.prune as prune\n",
    "import torch.nn.functional as F\n",
    "\n",
    "\n",
    "device = torch.device(\"cuda\" if torch.cuda.is_available() else \"cpu\")\n",
    "\n",
    "class LeNet(nn.Module):\n",
    "    def __init__(self):\n",
    "        super(LeNet, self).__init__()\n",
    "        # 1 input image channel, 6 output channels, 3x3 square conv kernel\n",
    "        self.conv1 = nn.Conv2d(1, 6, 3)\n",
    "        self.conv2 = nn.Conv2d(6, 16, 3)\n",
    "        self.fc1 = nn.Linear(16 * 5 * 5, 120)  # 5x5 image dimension\n",
    "        self.fc2 = nn.Linear(120, 84)\n",
    "        self.fc3 = nn.Linear(84, 10)\n",
    "\n",
    "    def forward(self, x):\n",
    "        x = F.max_pool2d(F.relu(self.conv1(x)), (2, 2))\n",
    "        x = F.max_pool2d(F.relu(self.conv2(x)), 2)\n",
    "        x = x.view(-1, int(x.nelement() / x.shape[0]))\n",
    "        x = F.relu(self.fc1(x))\n",
    "        x = F.relu(self.fc2(x))\n",
    "        x = self.fc3(x)\n",
    "        return x\n",
    "\n",
    "model = LeNet().to(device=device)\n",
    "\n",
    "\n",
    "module = model.conv1\n",
    "print(list(module.named_parameters()))"
   ]
  },
  {
   "cell_type": "code",
   "execution_count": 18,
   "metadata": {
    "Collapsed": "false",
    "ExecuteTime": {
     "end_time": "2020-05-06T19:59:08.634770Z",
     "start_time": "2020-05-06T19:59:08.629121Z"
    }
   },
   "outputs": [
    {
     "name": "stdout",
     "output_type": "stream",
     "text": [
      "[('bias', Parameter containing:\n",
      "tensor([ 0.1417,  0.2496,  0.1655,  0.2093, -0.0947,  0.1983],\n",
      "       requires_grad=True)), ('weight_orig', Parameter containing:\n",
      "tensor([[[[ 0.0696,  0.2067, -0.2556],\n",
      "          [ 0.1500,  0.2942,  0.2083],\n",
      "          [-0.2191, -0.0414, -0.2277]]],\n",
      "\n",
      "\n",
      "        [[[ 0.1929, -0.3156,  0.1858],\n",
      "          [ 0.0647, -0.2856, -0.0058],\n",
      "          [-0.0423,  0.0845,  0.3201]]],\n",
      "\n",
      "\n",
      "        [[[-0.2524, -0.0075, -0.2302],\n",
      "          [-0.0682, -0.1007, -0.3304],\n",
      "          [-0.2870,  0.3072, -0.0886]]],\n",
      "\n",
      "\n",
      "        [[[ 0.0130, -0.0439, -0.1026],\n",
      "          [ 0.1086,  0.0526,  0.0934],\n",
      "          [ 0.0481,  0.1797, -0.1982]]],\n",
      "\n",
      "\n",
      "        [[[-0.2066, -0.0199, -0.1472],\n",
      "          [ 0.0007,  0.2304, -0.2892],\n",
      "          [-0.1760,  0.1045, -0.2712]]],\n",
      "\n",
      "\n",
      "        [[[ 0.2044,  0.0025, -0.2743],\n",
      "          [ 0.1469, -0.3179, -0.1738],\n",
      "          [ 0.1075,  0.2918,  0.2553]]]], requires_grad=True))]\n"
     ]
    }
   ],
   "source": [
    "prune.random_unstructured(module, name=\"weight\", amount=0.3)\n",
    "print(list(module.named_parameters()))"
   ]
  },
  {
   "cell_type": "code",
   "execution_count": 21,
   "metadata": {
    "Collapsed": "false",
    "ExecuteTime": {
     "end_time": "2020-05-06T20:00:43.710021Z",
     "start_time": "2020-05-06T20:00:43.704000Z"
    }
   },
   "outputs": [
    {
     "name": "stdout",
     "output_type": "stream",
     "text": [
      "[('weight_mask', tensor([[[[1., 0., 1.],\n",
      "          [0., 0., 1.],\n",
      "          [1., 1., 0.]]],\n",
      "\n",
      "\n",
      "        [[[1., 0., 1.],\n",
      "          [0., 0., 0.],\n",
      "          [0., 1., 1.]]],\n",
      "\n",
      "\n",
      "        [[[0., 1., 0.],\n",
      "          [0., 0., 1.],\n",
      "          [0., 0., 1.]]],\n",
      "\n",
      "\n",
      "        [[[0., 1., 1.],\n",
      "          [1., 1., 1.],\n",
      "          [1., 1., 0.]]],\n",
      "\n",
      "\n",
      "        [[[1., 1., 0.],\n",
      "          [0., 1., 0.],\n",
      "          [0., 0., 1.]]],\n",
      "\n",
      "\n",
      "        [[[1., 0., 0.],\n",
      "          [1., 0., 0.],\n",
      "          [1., 1., 0.]]]]))]\n",
      "tensor([[[[ 0.0696,  0.0000, -0.2556],\n",
      "          [ 0.0000,  0.0000,  0.2083],\n",
      "          [-0.2191, -0.0414, -0.0000]]],\n",
      "\n",
      "\n",
      "        [[[ 0.1929, -0.0000,  0.1858],\n",
      "          [ 0.0000, -0.0000, -0.0000],\n",
      "          [-0.0000,  0.0845,  0.3201]]],\n",
      "\n",
      "\n",
      "        [[[-0.0000, -0.0075, -0.0000],\n",
      "          [-0.0000, -0.0000, -0.3304],\n",
      "          [-0.0000,  0.0000, -0.0886]]],\n",
      "\n",
      "\n",
      "        [[[ 0.0000, -0.0439, -0.1026],\n",
      "          [ 0.1086,  0.0526,  0.0934],\n",
      "          [ 0.0481,  0.1797, -0.0000]]],\n",
      "\n",
      "\n",
      "        [[[-0.2066, -0.0199, -0.0000],\n",
      "          [ 0.0000,  0.2304, -0.0000],\n",
      "          [-0.0000,  0.0000, -0.2712]]],\n",
      "\n",
      "\n",
      "        [[[ 0.2044,  0.0000, -0.0000],\n",
      "          [ 0.1469, -0.0000, -0.0000],\n",
      "          [ 0.1075,  0.2918,  0.0000]]]], grad_fn=<MulBackward0>)\n",
      "OrderedDict([(1, <torch.nn.utils.prune.PruningContainer object at 0x11a101fd0>)])\n"
     ]
    }
   ],
   "source": [
    "print(list(module.named_buffers()))\n",
    "\n",
    "print(module.weight)\n",
    "print(module._forward_pre_hooks)"
   ]
  }
 ],
 "metadata": {
  "kernelspec": {
   "display_name": "Python 3",
   "language": "python",
   "name": "python3"
  },
  "language_info": {
   "codemirror_mode": {
    "name": "ipython",
    "version": 3
   },
   "file_extension": ".py",
   "mimetype": "text/x-python",
   "name": "python",
   "nbconvert_exporter": "python",
   "pygments_lexer": "ipython3",
   "version": "3.7.4"
  },
  "varInspector": {
   "cols": {
    "lenName": 16,
    "lenType": 16,
    "lenVar": 40
   },
   "kernels_config": {
    "python": {
     "delete_cmd_postfix": "",
     "delete_cmd_prefix": "del ",
     "library": "var_list.py",
     "varRefreshCmd": "print(var_dic_list())"
    },
    "r": {
     "delete_cmd_postfix": ") ",
     "delete_cmd_prefix": "rm(",
     "library": "var_list.r",
     "varRefreshCmd": "cat(var_dic_list()) "
    }
   },
   "types_to_exclude": [
    "module",
    "function",
    "builtin_function_or_method",
    "instance",
    "_Feature"
   ],
   "window_display": false
  }
 },
 "nbformat": 4,
 "nbformat_minor": 4
}
