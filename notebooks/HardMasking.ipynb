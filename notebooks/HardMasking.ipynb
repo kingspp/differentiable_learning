{
 "cells": [
  {
   "cell_type": "code",
   "execution_count": 15,
   "metadata": {
    "ExecuteTime": {
     "end_time": "2020-05-03T23:07:54.314883Z",
     "start_time": "2020-05-03T23:07:50.445759Z"
    }
   },
   "outputs": [
    {
     "name": "stdout",
     "output_type": "stream",
     "text": [
      "1.3116962830000034\n",
      "1.3027846960000034\n",
      "1.2358263589999865\n"
     ]
    }
   ],
   "source": [
    "\n",
    "\n",
    "import numpy as np\n",
    "import time\n",
    "import timeit\n",
    "\n",
    "SIZE = [500*500]\n",
    "RUNS = 10_000\n",
    "\n",
    "\n",
    "def mul():\n",
    "    return ARR*ARR\n",
    "\n",
    "ARR = np.random.choice([5,0], size=SIZE, p=[0.5,0.5])\n",
    "print(timeit.timeit(stmt=mul, number=RUNS))\n",
    "\n",
    "ARR = np.random.choice([5,0], size=SIZE, p=[0.1,0.9])\n",
    "print(timeit.timeit(stmt=mul, number=RUNS))\n",
    "\n",
    "ARR = np.random.uniform(1, 10, size=SIZE)\n",
    "print(timeit.timeit(stmt=mul, number=RUNS))\n"
   ]
  }
 ],
 "metadata": {
  "kernelspec": {
   "display_name": "Python 3",
   "language": "python",
   "name": "python3"
  },
  "language_info": {
   "codemirror_mode": {
    "name": "ipython",
    "version": 3
   },
   "file_extension": ".py",
   "mimetype": "text/x-python",
   "name": "python",
   "nbconvert_exporter": "python",
   "pygments_lexer": "ipython3",
   "version": "3.7.4"
  },
  "varInspector": {
   "cols": {
    "lenName": 16,
    "lenType": 16,
    "lenVar": 40
   },
   "kernels_config": {
    "python": {
     "delete_cmd_postfix": "",
     "delete_cmd_prefix": "del ",
     "library": "var_list.py",
     "varRefreshCmd": "print(var_dic_list())"
    },
    "r": {
     "delete_cmd_postfix": ") ",
     "delete_cmd_prefix": "rm(",
     "library": "var_list.r",
     "varRefreshCmd": "cat(var_dic_list()) "
    }
   },
   "types_to_exclude": [
    "module",
    "function",
    "builtin_function_or_method",
    "instance",
    "_Feature"
   ],
   "window_display": false
  }
 },
 "nbformat": 4,
 "nbformat_minor": 1
}
